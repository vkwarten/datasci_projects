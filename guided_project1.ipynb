{
 "cells": [
  {
   "cell_type": "markdown",
   "metadata": {
    "collapsed": true
   },
   "source": [
    "# Profitable App Profiles for the App Store and Google Play Markets\n",
    "\n",
    "## Project 1: Which Apps attract users?\n",
    "\n",
    "### What the project is about?\n",
    "For this project we are wanting to see the amount of users that use each app. For the apps that are high in numbers, these will be the focus for exploring more into the details\n",
    "\n",
    "### What your goal is in the project?\n",
    "The goal of this project it to analyze the data to help developers understand what type of apps that are likely to attrach more users. "
   ]
  },
  {
   "cell_type": "markdown",
   "metadata": {},
   "source": [
    "+ The format for the Apple Store data is different than the Google Store data"
   ]
  },
  {
   "cell_type": "code",
   "execution_count": 42,
   "metadata": {
    "collapsed": true
   },
   "outputs": [],
   "source": [
    "# Open the Apple Store and Google Play Store data\n",
    "from csv import reader\n",
    "\n",
    "# The Apple data set #\n",
    "opened_file = open('AppleStore.csv', encoding='utf8')\n",
    "read_file = reader(opened_file)\n",
    "apple = list(read_file)\n",
    "apple_header = apple[0]\n",
    "apple_data = apple[1:] \n",
    "\n",
    "# The Google data set #\n",
    "opened_file = open('googleplaystore.csv')\n",
    "read_file = reader(opened_file)\n",
    "android = list(read_file)\n",
    "android_header = android[0]\n",
    "android_data = android[1:]\n"
   ]
  },
  {
   "cell_type": "code",
   "execution_count": 43,
   "metadata": {},
   "outputs": [
    {
     "name": "stdout",
     "output_type": "stream",
     "text": [
      "['App', 'Category', 'Rating', 'Reviews', 'Size', 'Installs', 'Type', 'Price', 'Content Rating', 'Genres', 'Last Updated', 'Current Ver', 'Android Ver']\n"
     ]
    }
   ],
   "source": [
    "# Exploring and extracting the data from the file called\n",
    "def explore_data(dataset, start, end, rows_and_columns=False):\n",
    "    dataset_slice = dataset[start: end]\n",
    "    for row in dataset_slice:\n",
    "        print(row)\n",
    "        print('\\n') # adds a new (empty) line after each row\n",
    "        \n",
    "    if rows_and_columns:\n",
    "        print('Number of rows', len(dataset))\n",
    "        print('Number of columns', len(dataset[0]))\n",
    "        \n",
    "print(android_header)\n",
    "#print(android_data)\n"
   ]
  },
  {
   "cell_type": "code",
   "execution_count": 44,
   "metadata": {},
   "outputs": [
    {
     "name": "stdout",
     "output_type": "stream",
     "text": [
      "['284882215', 'Facebook', '389879808', 'USD', '0.0', '2974676', '212', '3.5', '3.5', '95.0', '4+', 'Social Networking', '37', '1', '29', '1']\n",
      "\n",
      "\n",
      "['389801252', 'Instagram', '113954816', 'USD', '0.0', '2161558', '1289', '4.5', '4.0', '10.23', '12+', 'Photo & Video', '37', '0', '29', '1']\n",
      "\n",
      "\n",
      "['529479190', 'Clash of Clans', '116476928', 'USD', '0.0', '2130805', '579', '4.5', '4.5', '9.24.12', '9+', 'Games', '38', '5', '18', '1']\n",
      "\n",
      "\n",
      "['420009108', 'Temple Run', '65921024', 'USD', '0.0', '1724546', '3842', '4.5', '4.0', '1.6.2', '9+', 'Games', '40', '5', '1', '1']\n",
      "\n",
      "\n",
      "['284035177', 'Pandora - Music & Radio', '130242560', 'USD', '0.0', '1126879', '3594', '4.0', '4.5', '8.4.1', '12+', 'Music', '37', '4', '1', '1']\n",
      "\n",
      "\n"
     ]
    }
   ],
   "source": [
    "# Print few rows of Apple data sets using the explore_data function\n",
    "apple_data1 = explore_data(apple_data, 0, 5, False)"
   ]
  },
  {
   "cell_type": "code",
   "execution_count": 45,
   "metadata": {},
   "outputs": [
    {
     "name": "stdout",
     "output_type": "stream",
     "text": [
      "['Coloring book moana', 'ART_AND_DESIGN', '3.9', '967', '14M', '500,000+', 'Free', '0', 'Everyone', 'Art & Design;Pretend Play', 'January 15, 2018', '2.0.0', '4.0.3 and up']\n",
      "\n",
      "\n",
      "['U Launcher Lite – FREE Live Cool Themes, Hide Apps', 'ART_AND_DESIGN', '4.7', '87510', '8.7M', '5,000,000+', 'Free', '0', 'Everyone', 'Art & Design', 'August 1, 2018', '1.2.4', '4.0.3 and up']\n",
      "\n",
      "\n",
      "['Sketch - Draw & Paint', 'ART_AND_DESIGN', '4.5', '215644', '25M', '50,000,000+', 'Free', '0', 'Teen', 'Art & Design', 'June 8, 2018', 'Varies with device', '4.2 and up']\n",
      "\n",
      "\n",
      "['Pixel Draw - Number Art Coloring Book', 'ART_AND_DESIGN', '4.3', '967', '2.8M', '100,000+', 'Free', '0', 'Everyone', 'Art & Design;Creativity', 'June 20, 2018', '1.1', '4.4 and up']\n",
      "\n",
      "\n"
     ]
    }
   ],
   "source": [
    "# Print few rows of Android data sets using the explore_data function\n",
    "android_data1 = explore_data(android_data, 1, 5, False)"
   ]
  },
  {
   "cell_type": "code",
   "execution_count": 50,
   "metadata": {},
   "outputs": [
    {
     "name": "stdout",
     "output_type": "stream",
     "text": [
      "['284882215', 'Facebook', '389879808', 'USD', '0.0', '2974676', '212', '3.5', '3.5', '95.0', '4+', 'Social Networking', '37', '1', '29', '1']\n",
      "\n",
      "\n",
      "Number of rows 7197\n",
      "Number of columns 16\n"
     ]
    }
   ],
   "source": [
    "# Find the number of rows and columns of each dataset\n",
    "apple_rows = explore_data(apple_data, 0, 1, True)"
   ]
  },
  {
   "cell_type": "code",
   "execution_count": 47,
   "metadata": {},
   "outputs": [
    {
     "name": "stdout",
     "output_type": "stream",
     "text": [
      "['Photo Editor & Candy Camera & Grid & ScrapBook', 'ART_AND_DESIGN', '4.1', '159', '19M', '10,000+', 'Free', '0', 'Everyone', 'Art & Design', 'January 7, 2018', '1.0.0', '4.0.3 and up']\n",
      "\n",
      "\n",
      "Number of rows 10841\n",
      "Number of columns 13\n"
     ]
    }
   ],
   "source": [
    "android_rows_cols = explore_data(android_data, 0, 1, True)"
   ]
  },
  {
   "cell_type": "code",
   "execution_count": 58,
   "metadata": {},
   "outputs": [
    {
     "name": "stdout",
     "output_type": "stream",
     "text": [
      "The apple columns are: ['id', 'track_name', 'size_bytes', 'currency', 'price', 'rating_count_tot', 'rating_count_ver', 'user_rating', 'user_rating_ver', 'ver', 'cont_rating', 'prime_genre', 'sup_devices.num', 'ipadSc_urls.num', 'lang.num', 'vpp_lic']\n",
      "\n",
      "\n",
      "The google columns are: ['App', 'Category', 'Rating', 'Reviews', 'Size', 'Installs', 'Type', 'Price', 'Content Rating', 'Genres', 'Last Updated', 'Current Ver', 'Android Ver']\n"
     ]
    }
   ],
   "source": [
    "# Print the column names\n",
    "apple_columns = apple_header\n",
    "print('The apple columns are:', apple_columns)\n",
    "print('\\n')\n",
    "google_columns = android_header\n",
    "print('The google columns are:', google_columns)"
   ]
  },
  {
   "cell_type": "markdown",
   "metadata": {},
   "source": [
    "### Understanding the columns categories\n",
    "+ Apple Store column details data [Apple Store](https://www.kaggle.com/ramamet4/app-store-apple-data-set-10k-apps)\n",
    "+ Google Play column details data [Google Play](https://www.kaggle.com/lava18/google-play-store-apps)\n",
    "\n",
    "These columns that could help with the analysis:\n",
    "+ Apple:\n",
    "    + price: if looking at free vs. paid\n",
    "    + rating_count_total: looking at percentages\n",
    "    + User_rating: scale of if the user liked the product\n",
    "    + prime_genre: the scope of the app\n",
    "+ Google: \n",
    "    + rating: overall user rating of the app\n",
    "    + reviews: number of user reviews for the app\n",
    "    + installs: number of user downloads for the app\n",
    "    + type: paid or free\n",
    "    + price: price of the app\n",
    "    + genre: category that app belongs to"
   ]
  },
  {
   "cell_type": "markdown",
   "metadata": {},
   "source": [
    "## Data Cleaning\n",
    "The company builds apps that are *free* and for *English-speaking* audience. We will need to:\n",
    "+ remove non-English apps\n",
    "+ Remove apps that aren't free\n",
    "\n",
    "Google play has an error, read the discussion to find out where the error occurs:\n",
    "+ From the discussion there is an error for entry 10472 [Google play Discussion](https://www.kaggle.com/lava18/google-play-store-apps/discussion/66015)"
   ]
  },
  {
   "cell_type": "code",
   "execution_count": 71,
   "metadata": {},
   "outputs": [
    {
     "name": "stdout",
     "output_type": "stream",
     "text": [
      "['TownWiFi | Wi-Fi Everywhere', 'COMMUNICATION', '3.9', '2372', '58M', '500,000+', 'Free', '0', 'Everyone', 'Communication', 'August 2, 2018', '4.2.1', '4.2 and up']\n",
      "\n",
      "\n",
      "['Jazz Wi-Fi', 'COMMUNICATION', '3.4', '49', '4.0M', '10,000+', 'Free', '0', 'Everyone', 'Communication', 'February 10, 2017', '0.1', '2.3 and up']\n",
      "\n",
      "\n",
      "['Xposed Wi-Fi-Pwd', 'PERSONALIZATION', '3.5', '1042', '404k', '100,000+', 'Free', '0', 'Everyone', 'Personalization', 'August 5, 2014', '3.0.0', '4.0.3 and up']\n",
      "\n",
      "\n",
      "['Life Made WI-Fi Touchscreen Photo Frame', '1.9', '19', '3.0M', '1,000+', 'Free', '0', 'Everyone', '', 'February 11, 2018', '1.0.19', '4.0 and up']\n",
      "\n",
      "\n",
      "['osmino Wi-Fi: free WiFi', 'TOOLS', '4.2', '134203', '4.1M', '10,000,000+', 'Free', '0', 'Everyone', 'Tools', 'August 7, 2018', '6.06.14', '4.4 and up']\n",
      "\n",
      "\n",
      "['Sat-Fi Voice', 'COMMUNICATION', '3.4', '37', '14M', '1,000+', 'Free', '0', 'Everyone', 'Communication', 'November 21, 2014', '2.2.1.5', '2.2 and up']\n"
     ]
    }
   ],
   "source": [
    "# Print the row at index to check\n",
    "# index may/ may not include header\n",
    "print(android[10470])\n",
    "print('\\n')\n",
    "print(android[10471])\n",
    "print('\\n')\n",
    "print(android[10472])\n",
    "print('\\n')\n",
    "print(android[10473])\n",
    "print('\\n')\n",
    "print(android[10474])\n",
    "print('\\n')\n",
    "print(android[10475])"
   ]
  },
  {
   "cell_type": "code",
   "execution_count": 70,
   "metadata": {},
   "outputs": [
    {
     "name": "stdout",
     "output_type": "stream",
     "text": [
      "13\n",
      "13\n",
      "13\n",
      "12\n",
      "13\n",
      "13\n"
     ]
    }
   ],
   "source": [
    "# This just checks the area user mentioned\n",
    "# Error appears to just affect that row\n",
    "print(len(android[10470]))\n",
    "print(len(android[10471]))\n",
    "print(len(android[10472]))\n",
    "print(len(android[10473])) # this is probably the real 10472\n",
    "print(len(android[10474]))\n",
    "print(len(android[10475]))"
   ]
  },
  {
   "cell_type": "code",
   "execution_count": 78,
   "metadata": {},
   "outputs": [
    {
     "name": "stdout",
     "output_type": "stream",
     "text": [
      "['Life Made WI-Fi Touchscreen Photo Frame', '1.9', '19', '3.0M', '1,000+', 'Free', '0', 'Everyone', '', 'February 11, 2018', '1.0.19', '4.0 and up']\n",
      "10473\n"
     ]
    }
   ],
   "source": [
    "# To check over all the rows \n",
    "for row in android: # including the header in the count\n",
    "    headerlength = len(android_header) # defined this earlier \n",
    "    rowlength = len(row) \n",
    "    if rowlength != headerlength:\n",
    "        print(row)\n",
    "        print(android.index(row))"
   ]
  },
  {
   "cell_type": "code",
   "execution_count": 80,
   "metadata": {},
   "outputs": [
    {
     "name": "stdout",
     "output_type": "stream",
     "text": [
      "['Life Made WI-Fi Touchscreen Photo Frame', '1.9', '19', '3.0M', '1,000+', 'Free', '0', 'Everyone', '', 'February 11, 2018', '1.0.19', '4.0 and up']\n",
      "10472\n"
     ]
    }
   ],
   "source": [
    "# To check over the rows not including the header\n",
    "# android_data doesn't include header so index matches 10472\n",
    "for row in android_data: \n",
    "    headerlength = len(android_header)\n",
    "    rowlength = len(row)\n",
    "    if rowlength != headerlength:\n",
    "        print(row)\n",
    "        print(android_data.index(row))"
   ]
  },
  {
   "cell_type": "code",
   "execution_count": 81,
   "metadata": {
    "collapsed": true
   },
   "outputs": [],
   "source": [
    "# Delete the row from data, use the right index\n",
    "# Delete the row from data that does not include the header\n",
    "del android_data[10472]"
   ]
  },
  {
   "cell_type": "code",
   "execution_count": 92,
   "metadata": {},
   "outputs": [],
   "source": [
    "# Check data again\n",
    "\"\"\" when I uncomment the else/print statement it says Data is good for each\n",
    "row, I moved the else statement outside and got an error. I want it to say \n",
    "data is good just 1 time once it's checked all the rows\"\"\" \n",
    "\n",
    "for row in android_data: \n",
    "    headerlength = len(android_header)\n",
    "    rowlength = len(row)\n",
    "    if rowlength != headerlength:\n",
    "        print(row)\n",
    "        print(android_data.index(row))\n",
    "    #else:\n",
    "        #print('Data is good') "
   ]
  },
  {
   "cell_type": "markdown",
   "metadata": {},
   "source": [
    "Apple Store data has duplicates according to user community document [Apple store discrepancies](https://www.kaggle.com/ramamet4/app-store-apple-data-set-10k-apps/discussion/106176)\n",
    "+ Need to check the Apple Store data for duplicates\n",
    "+ Remove duplicate data"
   ]
  },
  {
   "cell_type": "code",
   "execution_count": 106,
   "metadata": {},
   "outputs": [],
   "source": [
    "# want to find duplicate row data\n",
    "# want to find the rows that are the same\n",
    "# App_names should be unique so can check if there are duplicates of this\n",
    "\"\"\" if app name is not in apple_app_names list, append list to add app_name\n",
    "if app name is in list then, append list of apple_name_duplicates\"\"\"\n",
    "# Create lists and compare\n",
    "apple_app_names = []\n",
    "apple_name_duplicates = []\n",
    "for app_name in apple_data: # this does not include the header\n",
    "    app_name = apple_data[1]\n",
    "    if app_name != apple_app_names:\n",
    "        apple_app_names.append(app_name) \n",
    "    else:\n",
    "        apple_name_duplicates.append(app_name)\n",
    "\n"
   ]
  },
  {
   "cell_type": "raw",
   "metadata": {},
   "source": []
  },
  {
   "cell_type": "code",
   "execution_count": null,
   "metadata": {
    "collapsed": true
   },
   "outputs": [],
   "source": []
  }
 ],
 "metadata": {
  "kernelspec": {
   "display_name": "Python 3",
   "language": "python",
   "name": "python3"
  },
  "language_info": {
   "codemirror_mode": {
    "name": "ipython",
    "version": 3
   },
   "file_extension": ".py",
   "mimetype": "text/x-python",
   "name": "python",
   "nbconvert_exporter": "python",
   "pygments_lexer": "ipython3",
   "version": "3.7.6"
  }
 },
 "nbformat": 4,
 "nbformat_minor": 2
}
